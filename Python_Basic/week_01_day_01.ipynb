{
 "cells": [
  {
   "cell_type": "code",
   "execution_count": 2,
   "metadata": {},
   "outputs": [
    {
     "data": {
      "text/plain": [
       "4.002861230329041"
      ]
     },
     "execution_count": 2,
     "metadata": {},
     "output_type": "execute_result"
    }
   ],
   "source": [
    "2+2*(10-3)/6.99"
   ]
  },
  {
   "cell_type": "code",
   "execution_count": 3,
   "metadata": {},
   "outputs": [
    {
     "data": {
      "text/plain": [
       "21.571428571428573"
      ]
     },
     "execution_count": 3,
     "metadata": {},
     "output_type": "execute_result"
    }
   ],
   "source": [
    "2+2*10-3/7"
   ]
  },
  {
   "cell_type": "code",
   "execution_count": 4,
   "metadata": {},
   "outputs": [
    {
     "data": {
      "text/plain": [
       "8"
      ]
     },
     "execution_count": 4,
     "metadata": {},
     "output_type": "execute_result"
    }
   ],
   "source": [
    "#power\n",
    "2**3"
   ]
  },
  {
   "cell_type": "code",
   "execution_count": 7,
   "metadata": {},
   "outputs": [
    {
     "data": {
      "text/plain": [
       "3"
      ]
     },
     "execution_count": 7,
     "metadata": {},
     "output_type": "execute_result"
    }
   ],
   "source": [
    "#quotent\n",
    "15//4"
   ]
  },
  {
   "cell_type": "code",
   "execution_count": 8,
   "metadata": {},
   "outputs": [
    {
     "data": {
      "text/plain": [
       "3"
      ]
     },
     "execution_count": 8,
     "metadata": {},
     "output_type": "execute_result"
    }
   ],
   "source": [
    "#remainder\n",
    "15%4"
   ]
  },
  {
   "cell_type": "code",
   "execution_count": 9,
   "metadata": {},
   "outputs": [
    {
     "data": {
      "text/plain": [
       "3.75"
      ]
     },
     "execution_count": 9,
     "metadata": {},
     "output_type": "execute_result"
    }
   ],
   "source": [
    "#divison\n",
    "15/4"
   ]
  },
  {
   "cell_type": "code",
   "execution_count": 10,
   "metadata": {},
   "outputs": [
    {
     "data": {
      "text/plain": [
       "'string printing'"
      ]
     },
     "execution_count": 10,
     "metadata": {},
     "output_type": "execute_result"
    }
   ],
   "source": [
    "\"string printing\""
   ]
  },
  {
   "cell_type": "code",
   "execution_count": 11,
   "metadata": {},
   "outputs": [
    {
     "data": {
      "text/plain": [
       "'also string'"
      ]
     },
     "execution_count": 11,
     "metadata": {},
     "output_type": "execute_result"
    }
   ],
   "source": [
    "'also string'"
   ]
  },
  {
   "cell_type": "code",
   "execution_count": 14,
   "metadata": {},
   "outputs": [
    {
     "data": {
      "text/plain": [
       "'janaid\"s father tell him to print a \\'O !'"
      ]
     },
     "execution_count": 14,
     "metadata": {},
     "output_type": "execute_result"
    }
   ],
   "source": [
    "\"janaid\\\"s father tell him to print a 'O !\""
   ]
  },
  {
   "cell_type": "code",
   "execution_count": 15,
   "metadata": {},
   "outputs": [
    {
     "data": {
      "text/plain": [
       "'janaid\"s father tell him to print a \\'O !'"
      ]
     },
     "execution_count": 15,
     "metadata": {},
     "output_type": "execute_result"
    }
   ],
   "source": [
    "\"janaid\\\"s father tell him to print a \\'O !\""
   ]
  },
  {
   "cell_type": "code",
   "execution_count": 16,
   "metadata": {},
   "outputs": [
    {
     "ename": "SyntaxError",
     "evalue": "invalid syntax (<ipython-input-16-22b3f19ce397>, line 1)",
     "output_type": "error",
     "traceback": [
      "\u001b[1;36m  File \u001b[1;32m\"<ipython-input-16-22b3f19ce397>\"\u001b[1;36m, line \u001b[1;32m1\u001b[0m\n\u001b[1;33m    \"janaid\\\"s father tell him to print a \"O !\"\u001b[0m\n\u001b[1;37m                                           ^\u001b[0m\n\u001b[1;31mSyntaxError\u001b[0m\u001b[1;31m:\u001b[0m invalid syntax\n"
     ]
    }
   ],
   "source": [
    "\"janaid\\\"s father tell him to print a \"O !\""
   ]
  },
  {
   "cell_type": "code",
   "execution_count": 17,
   "metadata": {},
   "outputs": [
    {
     "data": {
      "text/plain": [
       "'janaid\"s father tell him to print a \"O\" !'"
      ]
     },
     "execution_count": 17,
     "metadata": {},
     "output_type": "execute_result"
    }
   ],
   "source": [
    "\"janaid\\\"s father tell him to print a \\\"O\\\" !\""
   ]
  },
  {
   "cell_type": "code",
   "execution_count": 20,
   "metadata": {},
   "outputs": [
    {
     "data": {
      "text/plain": [
       "'\"the quick brown fox \\n    jump over the lazy dog'"
      ]
     },
     "execution_count": 20,
     "metadata": {},
     "output_type": "execute_result"
    }
   ],
   "source": [
    "\"\"\"\"the quick brown fox \n",
    "    jump over the lazy dog\"\"\""
   ]
  },
  {
   "cell_type": "code",
   "execution_count": 30,
   "metadata": {},
   "outputs": [
    {
     "name": "stdout",
     "output_type": "stream",
     "text": [
      "the quick brown fox \n",
      " jump over the lazy dog\n"
     ]
    }
   ],
   "source": [
    "print(\"the quick brown fox \\n jump over the lazy dog\")"
   ]
  },
  {
   "cell_type": "code",
   "execution_count": 33,
   "metadata": {},
   "outputs": [
    {
     "name": "stdout",
     "output_type": "stream",
     "text": [
      "\"the quick brown fox \n",
      "jump over the lazy dog\n"
     ]
    }
   ],
   "source": [
    "print(\"\"\"\"the quick brown fox \n",
    "jump over the lazy dog\"\"\")"
   ]
  },
  {
   "cell_type": "code",
   "execution_count": 39,
   "metadata": {},
   "outputs": [
    {
     "name": "stdout",
     "output_type": "stream",
     "text": [
      "abc \\ def \u0007 ghi\b jkm \f",
      " npq \t rst\n"
     ]
    }
   ],
   "source": [
    "print(\"abc \\\\ def \\a ghi\\b jkm \\f npq \\t rst\")"
   ]
  },
  {
   "cell_type": "code",
   "execution_count": 40,
   "metadata": {},
   "outputs": [
    {
     "name": "stdout",
     "output_type": "stream",
     "text": [
      "abcdef,\n"
     ]
    }
   ],
   "source": [
    "#string operation\n",
    "print(\"abc\"+'def'+',')"
   ]
  },
  {
   "cell_type": "code",
   "execution_count": 42,
   "metadata": {},
   "outputs": [
    {
     "name": "stdout",
     "output_type": "stream",
     "text": [
      "abcd\n",
      "abcd\n",
      "abcd\n",
      "abcd\n",
      "abcd\n",
      "\n"
     ]
    }
   ],
   "source": [
    "print(('ab'+'cd'+'\\n')*5)"
   ]
  },
  {
   "cell_type": "code",
   "execution_count": 45,
   "metadata": {},
   "outputs": [
    {
     "name": "stdout",
     "output_type": "stream",
     "text": [
      "my score in \n",
      "eng:60 \n",
      "bg:50 \n",
      "phs:65 \n",
      "chm:55\n"
     ]
    }
   ],
   "source": [
    "#string formatting  .format() - here {} used as %d in c\n",
    "#.format() function\n",
    "print(\"my score in \\neng:{2} \\nbg:{0} \\nphs:{3} \\nchm:{1}\".format('50','55',60,65))"
   ]
  },
  {
   "cell_type": "code",
   "execution_count": 47,
   "metadata": {},
   "outputs": [
    {
     "name": "stdout",
     "output_type": "stream",
     "text": [
      "ab 12 xz xz xz 12 ab 100\n"
     ]
    }
   ],
   "source": [
    "print(\"{0} {1} {2} {2} {2} {1} {0} {3}\".format('ab',12,'xz',100))"
   ]
  },
  {
   "cell_type": "code",
   "execution_count": 49,
   "metadata": {},
   "outputs": [
    {
     "name": "stdout",
     "output_type": "stream",
     "text": [
      "If x = 20 and y = 300, then x+y = 320\n"
     ]
    }
   ],
   "source": [
    "print(\"If x = {x} and y = {y}, then x+y = {z}\".format(x = 20, y = 300, z = 20+300))"
   ]
  },
  {
   "cell_type": "code",
   "execution_count": 50,
   "metadata": {},
   "outputs": [
    {
     "ename": "NameError",
     "evalue": "name 'x' is not defined",
     "output_type": "error",
     "traceback": [
      "\u001b[1;31m---------------------------------------------------------------------------\u001b[0m",
      "\u001b[1;31mNameError\u001b[0m                                 Traceback (most recent call last)",
      "\u001b[1;32m<ipython-input-50-851401dd6881>\u001b[0m in \u001b[0;36m<module>\u001b[1;34m\u001b[0m\n\u001b[1;32m----> 1\u001b[1;33m \u001b[0mprint\u001b[0m\u001b[1;33m(\u001b[0m\u001b[1;34m\"If x = {x} and y = {y}, then x+y = {z}\"\u001b[0m\u001b[1;33m.\u001b[0m\u001b[0mformat\u001b[0m\u001b[1;33m(\u001b[0m\u001b[0mx\u001b[0m \u001b[1;33m=\u001b[0m \u001b[1;36m20\u001b[0m\u001b[1;33m,\u001b[0m \u001b[0my\u001b[0m \u001b[1;33m=\u001b[0m \u001b[1;36m300\u001b[0m\u001b[1;33m,\u001b[0m \u001b[0mz\u001b[0m \u001b[1;33m=\u001b[0m \u001b[0mx\u001b[0m\u001b[1;33m+\u001b[0m\u001b[0my\u001b[0m\u001b[1;33m)\u001b[0m\u001b[1;33m)\u001b[0m\u001b[1;33m\u001b[0m\u001b[1;33m\u001b[0m\u001b[0m\n\u001b[0m",
      "\u001b[1;31mNameError\u001b[0m: name 'x' is not defined"
     ]
    }
   ],
   "source": [
    "print(\"If x = {x} and y = {y}, then x+y = {z}\".format(x = 20, y = 300, z = x+y))"
   ]
  },
  {
   "cell_type": "code",
   "execution_count": 62,
   "metadata": {},
   "outputs": [
    {
     "name": "stdout",
     "output_type": "stream",
     "text": [
      "apple/ orange/ pineapple\n",
      "apple, orange, pineapple\n",
      "ab= cd= km\n",
      "\"apple\", \"orange\", \"pineapple\"\n",
      "\"apple\",\"orange\",\"pineapple\"\n"
     ]
    }
   ],
   "source": [
    "#.join() func\n",
    "print(\"/ \".join([\"apple\", \"orange\", \"pineapple\"]))\n",
    "print(\", \".join([\"apple\", \"orange\", \"pineapple\"]))\n",
    "print(\"= \".join([\"ab\",'cd','km']))\n",
    "#csv format\n",
    "print(\", \".join([\"\\\"apple\\\"\", \"\\\"orange\\\"\", \"\\\"pineapple\\\"\"]))\n",
    "print(\"\\\",\\\"\".join([\"\\\"apple\", \"orange\", \"pineapple\\\"\"]))"
   ]
  },
  {
   "cell_type": "code",
   "execution_count": 54,
   "metadata": {},
   "outputs": [
    {
     "name": "stdout",
     "output_type": "stream",
     "text": [
      "Hello world BD\n"
     ]
    }
   ],
   "source": [
    "#.replace()\n",
    "print(\"Hello ME BD\".replace(\"ME\", \"world\"))"
   ]
  },
  {
   "cell_type": "code",
   "execution_count": 58,
   "metadata": {},
   "outputs": [
    {
     "name": "stdout",
     "output_type": "stream",
     "text": [
      "True\n",
      "True\n",
      "True\n",
      "False\n",
      "True\n",
      "True\n"
     ]
    }
   ],
   "source": [
    "#.startswith()\n",
    "#.endswith()\n",
    "print(\"This is a sentence.\".startswith(\"This\"))\n",
    "print(\"This is a sentence.\".startswith(\"Th\"))\n",
    "print(\"This is a sentence.\".startswith(\"T\"))\n",
    "print(\"This is a sentence.\".startswith(\"S\"))\n",
    "print(\"This is a sentence.\".endswith(\"sentence.\"))\n",
    "print(\"This is a sentence.\".endswith(\".\"))"
   ]
  },
  {
   "cell_type": "code",
   "execution_count": 59,
   "metadata": {},
   "outputs": [
    {
     "name": "stdout",
     "output_type": "stream",
     "text": [
      "THIS IS A SENTENCE.\n",
      "an all caps sentence\n"
     ]
    }
   ],
   "source": [
    "#.uper()\n",
    "#.lower()\n",
    "print(\"This is a sentence.\".upper())\n",
    "print(\"AN ALL CAPS SENTENCE\".lower())"
   ]
  },
  {
   "cell_type": "code",
   "execution_count": 64,
   "metadata": {},
   "outputs": [
    {
     "name": "stdout",
     "output_type": "stream",
     "text": [
      "['ab', 'ef', 'ij', 'op', 'ur']\n"
     ]
    }
   ],
   "source": [
    "#.split()\n",
    "print(\"ab, ef, ij, op, ur\".split(\", \"))"
   ]
  },
  {
   "cell_type": "code",
   "execution_count": 69,
   "metadata": {},
   "outputs": [
    {
     "name": "stdout",
     "output_type": "stream",
     "text": [
      "20\n",
      "22.5\n",
      "7.0\n"
     ]
    }
   ],
   "source": [
    "#type conversion\n",
    "print(int(\"12\") + 3 + int(5.567891))\n",
    "print(int(\"12\") + 3 + int(5.567891) + float(\"2.50\")) \n",
    "print(float(7))"
   ]
  },
  {
   "cell_type": "code",
   "execution_count": 71,
   "metadata": {},
   "outputs": [
    {
     "name": "stdout",
     "output_type": "stream",
     "text": [
      "Float = 10.5 Integer = 50\n",
      "Float = 10.5 Integer = 50\n"
     ]
    }
   ],
   "source": [
    "print(\"Float = \" + str(10.5) + \" Integer = \" + str(50))\n",
    "print(\"Float = \" + '10.5' + \" Integer = \" + '50')"
   ]
  },
  {
   "cell_type": "code",
   "execution_count": 74,
   "metadata": {},
   "outputs": [
    {
     "name": "stdout",
     "output_type": "stream",
     "text": [
      "7\n",
      "10\n",
      "7\n"
     ]
    }
   ],
   "source": [
    ">>> x = 7\n",
    ">>> print(x)\n",
    ">>> print(x + 3)\n",
    ">>> print(x)\n"
   ]
  },
  {
   "cell_type": "code",
   "execution_count": 75,
   "metadata": {},
   "outputs": [
    {
     "name": "stdout",
     "output_type": "stream",
     "text": [
      "10.5\n",
      "Hello There\n"
     ]
    }
   ],
   "source": [
    ">>> x = 10.5\n",
    ">>> print(x)\n",
    ">>> x = \"Hello There\"\n",
    ">>> print(x)"
   ]
  },
  {
   "cell_type": "code",
   "execution_count": 76,
   "metadata": {},
   "outputs": [
    {
     "name": "stdout",
     "output_type": "stream",
     "text": [
      "Enter your birth year: 1996\n",
      "You are 24 years old!\n"
     ]
    }
   ],
   "source": [
    ">>> user_input = input(\"Enter your birth year: \")\n",
    ">>> age = 2020 - int(user_input)\n",
    ">>> print(\"You are \" + str(age) + \" years old!\")"
   ]
  },
  {
   "cell_type": "code",
   "execution_count": 82,
   "metadata": {},
   "outputs": [
    {
     "name": "stdout",
     "output_type": "stream",
     "text": [
      "Enter your birth year: 1997\n",
      "You are age years old!\n",
      "You are 23 years old!\n"
     ]
    }
   ],
   "source": [
    ">>> user_input = input(\"Enter your birth year: \")\n",
    ">>> age = 2020 - int(user_input)\n",
    ">>> print(\"You are \" + 'age'+ \" years old!\")\n",
    ">>> print(\"You are \" + str(age)+ \" years old!\")"
   ]
  },
  {
   "cell_type": "code",
   "execution_count": 83,
   "metadata": {},
   "outputs": [
    {
     "name": "stdout",
     "output_type": "stream",
     "text": [
      "Python3\n"
     ]
    }
   ],
   "source": [
    "language = \"Python\"\n",
    "language += \"3\"\n",
    "print(language)"
   ]
  },
  {
   "cell_type": "code",
   "execution_count": 86,
   "metadata": {},
   "outputs": [
    {
     "name": "stdout",
     "output_type": "stream",
     "text": [
      "True\n",
      "False\n",
      "True\n",
      "False\n"
     ]
    }
   ],
   "source": [
    ">>> my_boolean = True\n",
    ">>> print(my_boolean)\n",
    "\n",
    "\n",
    ">>> print(2 == 3)\n",
    "\n",
    ">>> print(\"hello\" == \"hello\")\n",
    "print(\"hello\" == \"h\")\n"
   ]
  },
  {
   "cell_type": "code",
   "execution_count": 90,
   "metadata": {},
   "outputs": [
    {
     "name": "stdout",
     "output_type": "stream",
     "text": [
      "False\n",
      "True\n"
     ]
    },
    {
     "data": {
      "text/plain": [
       "False"
      ]
     },
     "execution_count": 90,
     "metadata": {},
     "output_type": "execute_result"
    }
   ],
   "source": [
    "print(\"1\" != \"1\")\n",
    "print(\"eleven\" != \"seven\")\n",
    "1 != 1\n"
   ]
  },
  {
   "cell_type": "code",
   "execution_count": null,
   "metadata": {},
   "outputs": [],
   "source": []
  }
 ],
 "metadata": {
  "kernelspec": {
   "display_name": "Python 3",
   "language": "python",
   "name": "python3"
  },
  "language_info": {
   "codemirror_mode": {
    "name": "ipython",
    "version": 3
   },
   "file_extension": ".py",
   "mimetype": "text/x-python",
   "name": "python",
   "nbconvert_exporter": "python",
   "pygments_lexer": "ipython3",
   "version": "3.8.3"
  }
 },
 "nbformat": 4,
 "nbformat_minor": 4
}
